{
 "cells": [
  {
   "cell_type": "markdown",
   "id": "62bb3361-a74a-4276-a8b9-f351ce6f5fed",
   "metadata": {
    "tags": []
   },
   "source": [
    "# Data Science Tool and Ecosystem"
   ]
  },
  {
   "cell_type": "markdown",
   "id": "7bfdf6da-1a0c-4b0c-a848-9533db93fe48",
   "metadata": {
    "tags": []
   },
   "source": [
    "In this notebook, Data Science Tools and Ecosystem are summarized.\n"
   ]
  },
  {
   "cell_type": "markdown",
   "id": "584baa64-35c5-4349-b445-584af448a98f",
   "metadata": {},
   "source": [
    "Some of the popular languages that Data Scientists use are:\n",
    "<ol>\n",
    "<li>Python</li>\n",
    "<li>SQL</li>\n",
    "<li>Julia</li>\n",
    "</ol>\n",
    "Some of the commonly used libraries used by Data Scientists include:\n",
    "<ol>\n",
    "<li>Pandas</li>\n",
    "<li>NumPy</li>\n",
    "<li>Keras</li>\n",
    "</ol>\n"
   ]
  },
  {
   "cell_type": "markdown",
   "id": "cd97496d-2d8b-4c23-bafd-9b6fd4736520",
   "metadata": {},
   "source": [
    "|Data Science Tools|\n",
    "|------------------|\n",
    "|Apache Hadoop|\n",
    "|Tensor Flow|\n",
    "|Pandas|\n",
    "|Jupyter Notebook|\n"
   ]
  },
  {
   "cell_type": "markdown",
   "id": "12451b65-7059-4b55-9ee3-95f526495bc1",
   "metadata": {
    "tags": []
   },
   "source": [
    "<h3>Below are a few examples of evaluating arithmetic expressions in Python</h3>\n"
   ]
  },
  {
   "cell_type": "code",
   "execution_count": 7,
   "id": "07aa21f1-664c-48cc-ba74-53e70749b597",
   "metadata": {
    "tags": []
   },
   "outputs": [
    {
     "data": {
      "text/plain": [
       "17"
      ]
     },
     "execution_count": 7,
     "metadata": {},
     "output_type": "execute_result"
    }
   ],
   "source": [
    "# This a simple arithmetic expression to mutiply then add integers\n",
    "\n",
    "(3*4)+5"
   ]
  },
  {
   "cell_type": "code",
   "execution_count": 8,
   "id": "31185f91-e929-46e9-ab3a-e415d0c709fd",
   "metadata": {
    "tags": []
   },
   "outputs": [
    {
     "data": {
      "text/plain": [
       "3.3333333333333335"
      ]
     },
     "execution_count": 8,
     "metadata": {},
     "output_type": "execute_result"
    }
   ],
   "source": [
    "# This will convert 200 minutes to hours by diving by 60\n",
    "\n",
    "200/60"
   ]
  },
  {
   "cell_type": "markdown",
   "id": "ac378352-e54a-485d-a28c-fae73cfa4054",
   "metadata": {},
   "source": [
    "<b>Objectives:</b>\n",
    "\n",
    "List popular languages for Data Science\n",
    "<ul>\n",
    "<li>List popular languages for Data Science</li>\n",
    "<li>Some of the commonly used libraries used by Data Scientists</li>\n",
    "<li>Data Science Tools</li>\n",
    "</ul>\n"
   ]
  },
  {
   "cell_type": "markdown",
   "id": "bcb73bd2-fc95-4968-818c-c14bb8bf45c8",
   "metadata": {},
   "source": [
    "<h2>Author:</h2>\n",
    "Alex Bandeira"
   ]
  },
  {
   "cell_type": "code",
   "execution_count": null,
   "id": "d683539d-7c36-4f18-ac02-a576f0c14812",
   "metadata": {},
   "outputs": [],
   "source": []
  }
 ],
 "metadata": {
  "kernelspec": {
   "display_name": "Python",
   "language": "python",
   "name": "conda-env-python-py"
  },
  "language_info": {
   "codemirror_mode": {
    "name": "ipython",
    "version": 3
   },
   "file_extension": ".py",
   "mimetype": "text/x-python",
   "name": "python",
   "nbconvert_exporter": "python",
   "pygments_lexer": "ipython3",
   "version": "3.7.12"
  }
 },
 "nbformat": 4,
 "nbformat_minor": 5
}
